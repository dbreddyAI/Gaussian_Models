{
 "cells": [
  {
   "cell_type": "markdown",
   "metadata": {},
   "source": [
    "## Import Necessary Libraries"
   ]
  },
  {
   "cell_type": "code",
   "execution_count": 1,
   "metadata": {},
   "outputs": [],
   "source": [
    "import GPy\n",
    "import numpy as np\n",
    "import pandas as pd\n",
    "import time\n",
    "# Set Seed\n",
    "np.random.seed(0)"
   ]
  },
  {
   "cell_type": "markdown",
   "metadata": {},
   "source": [
    "## Read Train And Test Files\n",
    "\n",
    "#### Make Sure you keep all these files in the current directory"
   ]
  },
  {
   "cell_type": "code",
   "execution_count": 2,
   "metadata": {},
   "outputs": [],
   "source": [
    "# Read Files\n",
    "X_train = np.load('X_train.npy') \n",
    "X_test  = np.load('X_test.npy')\n",
    "Y_train = np.load('Y_train.npy')\n",
    "Y_test  = np.load('Y_test.npy') \n",
    "\n",
    "# Make Y_train and Y_test as 2d array for model function fitting\n",
    "Y_train = Y_train[:,None]\n",
    "Y_test = Y_test[:,None]"
   ]
  },
  {
   "cell_type": "markdown",
   "metadata": {},
   "source": [
    "## Model Building and Training"
   ]
  },
  {
   "cell_type": "code",
   "execution_count": 3,
   "metadata": {},
   "outputs": [
    {
     "name": "stdout",
     "output_type": "stream",
     "text": [
      "Execution Time is  2.0544962882995605 seconds\n"
     ]
    }
   ],
   "source": [
    "start_time = time.time() # To save start time of execution of code\n",
    "\n",
    "#Name For saving model\n",
    "model_name = 'GPR_Model'\n",
    "\n",
    "try:\n",
    "    \n",
    "    # Intialize Dimensions\n",
    "    Dimensions = X_train.shape[1]\n",
    "\n",
    "    # Kernel Building \n",
    "    k_rbf = GPy.kern.RBF(input_dim=Dimensions, variance=1, lengthscale=None, ARD=True\n",
    "                           , active_dims=None, name='rbf', useGPU=False, inv_l=False) \n",
    "\n",
    "    # Model Building\n",
    "    model_rbf = GPy.models.GPRegression(X_train,Y_train,k_rbf)  \n",
    "\n",
    "    # Optmization of Model\n",
    "    model_rbf.optimize(optimizer=None,start=None,messages=False, max_iters=1000\n",
    "                              , ipython_notebook=True, clear_after_finish=True) \n",
    "    \n",
    "    # Save the model for later use\n",
    "    model_rbf._save_model(model_name, compress=False) \n",
    "    # Set compress = False to save model as .json file otherwise it will be saved as .zip file\n",
    "\n",
    "except:\n",
    "    print('Jitter Error')\n",
    "    # If jitter error occurs try to reset np.random.seed() with some other value\n",
    "    \n",
    "end_time = time.time()    \n",
    "print(\"Execution Time is \", end_time-start_time, \"seconds\")"
   ]
  },
  {
   "cell_type": "markdown",
   "metadata": {},
   "source": [
    "## Prediction Module: Load pre-trained model to get prediction on test set"
   ]
  },
  {
   "cell_type": "code",
   "execution_count": 4,
   "metadata": {},
   "outputs": [],
   "source": [
    "# Set alpha factor\n",
    "alpha = 1  ## Here alpha = 1 , is used, you can use it depending upon the choice and problem "
   ]
  },
  {
   "cell_type": "code",
   "execution_count": 5,
   "metadata": {},
   "outputs": [],
   "source": [
    "# DataFrame for Prediction Result\n",
    "result = pd.DataFrame(columns=['Predicted_Score','Rank'])"
   ]
  },
  {
   "cell_type": "code",
   "execution_count": 6,
   "metadata": {},
   "outputs": [],
   "source": [
    "### Get the Pre-trained model json file\n",
    "model_name= 'GPR_Model.json'\n",
    "\n",
    "# load Pre-trained Model \n",
    "model_rbf = GPy.core.model.Model.load_model(model_name)\n",
    "\n",
    "#  Get Predictions\n",
    "pred_mean,pred_var= model_rbf.predict(X_test, full_cov=False, Y_metadata=None, kern=None,\n",
    "                                      likelihood=None, include_likelihood=False) \n",
    "\n",
    "# Save Prediction results\n",
    "prediction_mean = pred_mean.flatten()\n",
    "prediction_var =  pred_var.flatten()\n",
    "# Set negative varience occured due to numerical error change it to Zero(0)\n",
    "prediction_var[prediction_var<0]=0\n",
    "prediction_std =  np.sqrt(prediction_var)\n",
    "## Save sum of Mean and alpha*Std in one variable , this is our Score for Ranking\n",
    "Prediction_sum = prediction_mean + alpha* prediction_std\n",
    "\n",
    "\n",
    "# Save result in dataframe\n",
    "result['Predicted_Score'] = Prediction_sum"
   ]
  },
  {
   "cell_type": "markdown",
   "metadata": {},
   "source": [
    "### Generate Ranking  by Sorting  Score in Descending"
   ]
  },
  {
   "cell_type": "code",
   "execution_count": 7,
   "metadata": {},
   "outputs": [
    {
     "data": {
      "text/html": [
       "<div>\n",
       "<style scoped>\n",
       "    .dataframe tbody tr th:only-of-type {\n",
       "        vertical-align: middle;\n",
       "    }\n",
       "\n",
       "    .dataframe tbody tr th {\n",
       "        vertical-align: top;\n",
       "    }\n",
       "\n",
       "    .dataframe thead th {\n",
       "        text-align: right;\n",
       "    }\n",
       "</style>\n",
       "<table border=\"1\" class=\"dataframe\">\n",
       "  <thead>\n",
       "    <tr style=\"text-align: right;\">\n",
       "      <th></th>\n",
       "      <th>Predicted_Score</th>\n",
       "      <th>Rank</th>\n",
       "    </tr>\n",
       "  </thead>\n",
       "  <tbody>\n",
       "    <tr>\n",
       "      <th>0</th>\n",
       "      <td>1.459370</td>\n",
       "      <td>1</td>\n",
       "    </tr>\n",
       "    <tr>\n",
       "      <th>1</th>\n",
       "      <td>1.262126</td>\n",
       "      <td>2</td>\n",
       "    </tr>\n",
       "    <tr>\n",
       "      <th>2</th>\n",
       "      <td>1.195904</td>\n",
       "      <td>3</td>\n",
       "    </tr>\n",
       "    <tr>\n",
       "      <th>3</th>\n",
       "      <td>1.165598</td>\n",
       "      <td>4</td>\n",
       "    </tr>\n",
       "    <tr>\n",
       "      <th>4</th>\n",
       "      <td>1.156953</td>\n",
       "      <td>5</td>\n",
       "    </tr>\n",
       "  </tbody>\n",
       "</table>\n",
       "</div>"
      ],
      "text/plain": [
       "   Predicted_Score  Rank\n",
       "0         1.459370     1\n",
       "1         1.262126     2\n",
       "2         1.195904     3\n",
       "3         1.165598     4\n",
       "4         1.156953     5"
      ]
     },
     "execution_count": 7,
     "metadata": {},
     "output_type": "execute_result"
    }
   ],
   "source": [
    "result = result.sort_values('Predicted_Score',ascending=False)\n",
    "result['Rank'] =  range(1,len(result)+1)\n",
    "result.reset_index(drop=True,inplace=True)\n",
    "result.head()"
   ]
  },
  {
   "cell_type": "code",
   "execution_count": 8,
   "metadata": {},
   "outputs": [],
   "source": [
    "# Save Result as .txt file\n",
    "result.to_csv('Ranking_result.txt',sep='\\t',index=False)"
   ]
  }
 ],
 "metadata": {
  "kernelspec": {
   "display_name": "Python 3",
   "language": "python",
   "name": "python3"
  },
  "language_info": {
   "codemirror_mode": {
    "name": "ipython",
    "version": 3
   },
   "file_extension": ".py",
   "mimetype": "text/x-python",
   "name": "python",
   "nbconvert_exporter": "python",
   "pygments_lexer": "ipython3",
   "version": "3.7.7"
  }
 },
 "nbformat": 4,
 "nbformat_minor": 4
}
